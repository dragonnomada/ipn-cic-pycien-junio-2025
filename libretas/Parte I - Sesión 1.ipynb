{
  "cells": [
    {
      "cell_type": "markdown",
      "metadata": {
        "id": "NYtuA0I3ONuo"
      },
      "source": [
        "# Python Científico | Parte I / Sesión 1\n",
        "\n",
        "Alan Badillo Salas\n",
        "\n",
        "Ciudad de México, 21 de junio de 2025"
      ]
    },
    {
      "cell_type": "markdown",
      "metadata": {
        "id": "oHXojuT3PHsM"
      },
      "source": [
        "## Contenido\n",
        "\n",
        "1. Valores, Variables y Tipos de datos\n",
        "2. Expresiones Lógicas y Artiméticas\n",
        "3. Sentencias, Bloques y Estructuras de Control\n",
        "4. Colecciones: Listas, Tuplas y Diccionarios\n",
        "5. Funciones: Sin parámetros y con parámetros"
      ]
    },
    {
      "cell_type": "markdown",
      "metadata": {
        "id": "14LRJhVBP8gz"
      },
      "source": [
        "## 1. Valores, Variables y Tipos de datos\n",
        "\n",
        "Tipo | Nombre | Ejemplo de Valores\n",
        "---- | ------ | ------------------\n",
        "Número Entero | `int` | `1`, `123`, `1990`\n",
        "Número Decimal | `float` | `1.0`, `123.456`, `3.14159256`\n",
        "Texto | `str` | `\"Hola mundo\"`, `'Hola python'`, `f\"Hola {nombre}\"`\n",
        "Lógico | `bool` | `True`, `False`\n",
        "Nulo | `None` | `None`\n"
      ]
    },
    {
      "cell_type": "markdown",
      "metadata": {
        "id": "AyrnDf1OZ04j"
      },
      "source": [
        "> Ejemplo: Datos de un producto"
      ]
    },
    {
      "cell_type": "code",
      "execution_count": 1,
      "metadata": {
        "id": "LQ-gKOl4ZsI2"
      },
      "outputs": [],
      "source": [
        "nombre = \"Coca-Cola (600ml)\"\n",
        "precio = 23.5\n",
        "caducidad = \"2026/02/25\"\n",
        "sku = \"07123456789\"\n",
        "existencias = 234\n",
        "dietetico = False"
      ]
    },
    {
      "cell_type": "markdown",
      "metadata": {
        "id": "85AS6saXbdYS"
      },
      "source": [
        "### Textos con formato\n",
        "\n",
        "> Sintaxis: Contruir un texto con formato\n",
        "\n",
        "```python\n",
        "f\"Texto antes ... {valor} ... texto después {otro_valor} ...\"\n",
        "```\n",
        "\n",
        "> Sintaxis: Configurar un formato\n",
        "\n",
        "```python\n",
        "f\"... {valor:formato} ...\"\n",
        "```\n",
        "\n",
        "Tipo | Formato | Ejemplo\n",
        "---- | ------- | -------\n",
        "Número Entero | {valor:[n]d} | `\"{edad:4d}\" -> \"__23\"`\n",
        "Número Entero | {valor:0[n]d} | `\"{edad:04d}\" -> \"0023\"`\n",
        "Número Decimal | {valor:[n].[m]f} | `\"{peso:6.2f}\" -> \" 45.50\"`\n",
        "Número Decimal | {valor:0[n].[m]f} | `\"{peso:06.2f}\" -> \"045.50\"`\n",
        "Texto | {valor:>[n]s} | `\"{nombre:>10s}\" -> \"_______Ana\"`\n",
        "Texto | {valor:<[n]s} | `\"{nombre:<10s}\" -> \"Ana_______\"`\n",
        "Texto | {valor:^[n]s} | `\"{nombre:^10s}\" -> \"____Ana___\"`\n"
      ]
    },
    {
      "cell_type": "markdown",
      "metadata": {
        "id": "-R2Y_OtJkRG9"
      },
      "source": [
        "> Ejemplo: Imprimir un texto fijo con emoticones"
      ]
    },
    {
      "cell_type": "code",
      "execution_count": 11,
      "metadata": {
        "colab": {
          "base_uri": "https://localhost:8080/"
        },
        "id": "M3sawwtMerYC",
        "outputId": "d7b4586e-c776-44e6-a15b-c4e9ffbec612"
      },
      "outputs": [
        {
          "name": "stdout",
          "output_type": "stream",
          "text": [
            "Hola python 🐍\n"
          ]
        }
      ],
      "source": [
        "print(\"Hola python 🐍\")"
      ]
    },
    {
      "cell_type": "code",
      "execution_count": 12,
      "metadata": {
        "colab": {
          "base_uri": "https://localhost:8080/"
        },
        "id": "Yj6GOQ5vg3Ly",
        "outputId": "8951795c-f8f1-404c-b3c0-124afca83199"
      },
      "outputs": [
        {
          "name": "stdout",
          "output_type": "stream",
          "text": [
            "Hola mundo 🌎\n"
          ]
        }
      ],
      "source": [
        "print(\"Hola mundo 🌎\")"
      ]
    },
    {
      "cell_type": "markdown",
      "metadata": {
        "id": "JYQqz-UukNOR"
      },
      "source": [
        "> Ejemplo: Mostrar el valor de la varible nombre"
      ]
    },
    {
      "cell_type": "code",
      "execution_count": 13,
      "metadata": {
        "colab": {
          "base_uri": "https://localhost:8080/",
          "height": 56
        },
        "id": "HWiBz7tbh943",
        "outputId": "c202e9b1-b451-4d97-9c46-9f9adff1af96"
      },
      "outputs": [
        {
          "data": {
            "application/vnd.google.colaboratory.intrinsic+json": {
              "type": "string"
            },
            "text/plain": [
              "'Coca-Cola (600ml)'"
            ]
          },
          "execution_count": 13,
          "metadata": {},
          "output_type": "execute_result"
        }
      ],
      "source": [
        "nombre"
      ]
    },
    {
      "cell_type": "markdown",
      "metadata": {
        "id": "cYWFkZezkKKt"
      },
      "source": [
        "> Ejemplo: Un texto con formato del nombre"
      ]
    },
    {
      "cell_type": "code",
      "execution_count": 14,
      "metadata": {
        "colab": {
          "base_uri": "https://localhost:8080/"
        },
        "id": "TIcnKJkJiCrX",
        "outputId": "f7489f3e-da2e-4c74-9f85-14d07b8cf337"
      },
      "outputs": [
        {
          "name": "stdout",
          "output_type": "stream",
          "text": [
            "Producto: Coca-Cola (600ml)\n"
          ]
        }
      ],
      "source": [
        "print(f\"Producto: {nombre}\")"
      ]
    },
    {
      "cell_type": "markdown",
      "metadata": {
        "id": "ywCfmYSckDP7"
      },
      "source": [
        "> Ejemplo: Mostrar el valor de la variable precio"
      ]
    },
    {
      "cell_type": "code",
      "execution_count": 15,
      "metadata": {
        "colab": {
          "base_uri": "https://localhost:8080/"
        },
        "id": "wMw0G-CiiO7P",
        "outputId": "7e48ec4e-2a64-448f-f970-78a6605e8cee"
      },
      "outputs": [
        {
          "data": {
            "text/plain": [
              "23.5"
            ]
          },
          "execution_count": 15,
          "metadata": {},
          "output_type": "execute_result"
        }
      ],
      "source": [
        "precio"
      ]
    },
    {
      "cell_type": "markdown",
      "metadata": {
        "id": "hX8DeDCnj-sE"
      },
      "source": [
        "> Ejemplo: Un texto con para formatear el precio"
      ]
    },
    {
      "cell_type": "code",
      "execution_count": 16,
      "metadata": {
        "colab": {
          "base_uri": "https://localhost:8080/"
        },
        "id": "qtLUup8tiRAm",
        "outputId": "bc4fba6d-a60d-4a11-8626-38c3c5ba437c"
      },
      "outputs": [
        {
          "name": "stdout",
          "output_type": "stream",
          "text": [
            "Precio: 23.5\n"
          ]
        }
      ],
      "source": [
        "print(f\"Precio: {precio}\")"
      ]
    },
    {
      "cell_type": "markdown",
      "metadata": {
        "id": "os0RiIRDj6Eu"
      },
      "source": [
        "> Ejemplo: Un texto con formato de números decimales"
      ]
    },
    {
      "cell_type": "code",
      "execution_count": 19,
      "metadata": {
        "colab": {
          "base_uri": "https://localhost:8080/"
        },
        "id": "7y-TwoG2iiMi",
        "outputId": "be5049bd-d109-497c-e833-bc9b07bc3475"
      },
      "outputs": [
        {
          "name": "stdout",
          "output_type": "stream",
          "text": [
            "Precio: € 23.50\n"
          ]
        }
      ],
      "source": [
        "print(f\"Precio: €{precio:6.2f}\")"
      ]
    },
    {
      "cell_type": "markdown",
      "metadata": {
        "id": "xk5T71YVj2ml"
      },
      "source": [
        "> Ejemplo: Un texto en múltiples líneas"
      ]
    },
    {
      "cell_type": "code",
      "execution_count": 21,
      "metadata": {
        "colab": {
          "base_uri": "https://localhost:8080/"
        },
        "id": "Mc8AmTEyjSDY",
        "outputId": "fceb2dce-923f-4db6-8b8d-2ab70b0f0bdf"
      },
      "outputs": [
        {
          "name": "stdout",
          "output_type": "stream",
          "text": [
            "\n",
            "\n",
            "Hola alumnos,\n",
            "\n",
            "La clase hoy no podré asistir.\n",
            "\n",
            "Saludos cordiales.\n",
            "\n",
            "Atentamente\n",
            "Su profesor\n",
            "\n",
            "\n"
          ]
        }
      ],
      "source": [
        "print(\"\"\"\n",
        "\n",
        "Hola alumnos,\n",
        "\n",
        "La clase hoy no podré asistir.\n",
        "\n",
        "Saludos cordiales.\n",
        "\n",
        "Atentamente\n",
        "Su profesor\n",
        "\n",
        "\"\"\")"
      ]
    },
    {
      "cell_type": "markdown",
      "metadata": {
        "id": "FuMEZIFXksTn"
      },
      "source": [
        "> Ejemplo: Un reporte en múltiples líneas"
      ]
    },
    {
      "cell_type": "code",
      "execution_count": 24,
      "metadata": {
        "colab": {
          "base_uri": "https://localhost:8080/"
        },
        "id": "5muWhlVKksEQ",
        "outputId": "76445be8-6a97-4b7c-c9d0-6a453732fce6"
      },
      "outputs": [
        {
          "name": "stdout",
          "output_type": "stream",
          "text": [
            "\n",
            "\n",
            "Producto: Coca-Cola (600ml)\n",
            "\n",
            "----------------------------------------------\n",
            "\n",
            "Precio: $    23.50\n",
            "Existencias: 234 unidades\n",
            "\n",
            "----------------------------------------------\n",
            "\n",
            "Caducidad: 2026/02/25\n",
            "\n",
            "Dietético: False\n",
            "\n",
            "SKU: 07123456789\n",
            "\n",
            "----------------------------------------------\n",
            "\n",
            "\n"
          ]
        }
      ],
      "source": [
        "print(f\"\"\"\n",
        "\n",
        "Producto: {nombre}\n",
        "\n",
        "----------------------------------------------\n",
        "\n",
        "Precio: $ {precio:8.2f}\n",
        "Existencias: {existencias} unidades\n",
        "\n",
        "----------------------------------------------\n",
        "\n",
        "Caducidad: {caducidad}\n",
        "\n",
        "Dietético: {dietetico}\n",
        "\n",
        "SKU: {sku}\n",
        "\n",
        "----------------------------------------------\n",
        "\n",
        "\"\"\")"
      ]
    },
    {
      "cell_type": "code",
      "execution_count": 62,
      "metadata": {
        "colab": {
          "base_uri": "https://localhost:8080/"
        },
        "id": "vWa4H4vbmXID",
        "outputId": "a70194da-1dfb-4455-b657-0b920531cc47"
      },
      "outputs": [
        {
          "name": "stdout",
          "output_type": "stream",
          "text": [
            "\n",
            "\n",
            "Producto:                    Coca-Cola (600ml)\n",
            "\n",
            "----------------------------------------------\n",
            "\n",
            "Precio:                    $    23.50\n",
            "Existencias:                      234 unidades\n",
            "\n",
            "----------------------------------------------\n",
            "\n",
            "Caducidad:                          2026/02/25\n",
            "\n",
            "Dietético:                                  ❌\n",
            "\n",
            "SKU:                               07123456789\n",
            "\n",
            "----------------------------------------------\n",
            "\n",
            "\n"
          ]
        }
      ],
      "source": [
        "print(f\"\"\"\n",
        "\n",
        "Producto: {nombre:>36s}\n",
        "\n",
        "----------------------------------------------\n",
        "\n",
        "Precio:                    $ {precio:8.2f}\n",
        "Existencias: {existencias:24d} unidades\n",
        "\n",
        "----------------------------------------------\n",
        "\n",
        "Caducidad: {caducidad:>35s}\n",
        "\n",
        "Dietético: {['❌', '✅'][dietetico]:>34s}\n",
        "\n",
        "SKU: {sku:>41s}\n",
        "\n",
        "----------------------------------------------\n",
        "\n",
        "\"\"\")"
      ]
    },
    {
      "cell_type": "markdown",
      "metadata": {
        "id": "cljgqkUlp0EA"
      },
      "source": [
        "### Ejercicio 1 - Modelado de Datos\n",
        "\n",
        "Genera las variables necesarias para modelar los datos de una persona y genera un reporte en múltiples líneas, considerando cada tipo de dato para cada variable.\n",
        "\n",
        "Por ejemplo, nombre, edad, género, nacionalidad, estatura, peso, etc.\n",
        "\n",
        "**Avanzado:** Guarda las nacionalidades y el ícono de su bandera en un diccionario y muestra la bandera en el reporte en lugar de nacionalidad (o ambas)."
      ]
    },
    {
      "cell_type": "markdown",
      "metadata": {
        "id": "qvHLcTbevBle"
      },
      "source": [
        "## 2. Expresiones Lógicas y Artiméticas\n",
        "\n",
        "* Una expresión se entiende por un cálculo/cómputo derivado de operaciones compuestas por operadores y operandos\n",
        "* Si el resultado de la operación o expresión es lógico, entonces será una sentencia de tipo predicado\n",
        "* Si el resultado de la operación o expresión es numérica, entonces será una sentencia de tipo aritmética\n",
        "\n",
        "Operaciones Lógicas\n",
        "\n",
        "Operador | Sentido | Ejemplo\n",
        "-------- | ------- | -------\n",
        "`and` | Conjunción (y) | `es_rojo and es_viernes`\n",
        "`or` | Disyunción (o) | `es_rojo or es viernes`\n",
        "`not` | Negación (no) | `not es_rojo`\n",
        "`>` | Mayor estricto | `x > 20`, `y > 50`\n",
        "`>=` | Mayo o igual | `x >= 0`, `y >= 100`\n",
        "`<` | Menor estrictor | `edad < 18`, `peso < 60.0`\n",
        "`<= ` | Menor o igual | `edad <= 18`, `peso <= 60.0`\n",
        "`==` | Idéntico o igual | `edad == 18`, `peso == 60.0`\n",
        "`!=` | Distinto o no-igual | `edad != 18`, `peso != 60.0`"
      ]
    },
    {
      "cell_type": "markdown",
      "metadata": {
        "id": "hfaR-XZ_wRbH"
      },
      "source": [
        "> Ejemplo: Una expresión lógica o predicado"
      ]
    },
    {
      "cell_type": "code",
      "execution_count": 63,
      "metadata": {
        "colab": {
          "base_uri": "https://localhost:8080/"
        },
        "id": "jjsZe-C1wVP1",
        "outputId": "96ad410d-97c9-4797-c5b2-2da3952a9dfc"
      },
      "outputs": [
        {
          "data": {
            "text/plain": [
              "True"
            ]
          },
          "execution_count": 63,
          "metadata": {},
          "output_type": "execute_result"
        }
      ],
      "source": [
        "edad = 45 # Creación o asignación de la variable\n",
        "\n",
        "edad > 18"
      ]
    },
    {
      "cell_type": "code",
      "execution_count": 64,
      "metadata": {
        "colab": {
          "base_uri": "https://localhost:8080/"
        },
        "id": "ZUhp1l_j0bBN",
        "outputId": "476c159c-221b-40dc-97ee-6cd57b6e6c35"
      },
      "outputs": [
        {
          "data": {
            "text/plain": [
              "False"
            ]
          },
          "execution_count": 64,
          "metadata": {},
          "output_type": "execute_result"
        }
      ],
      "source": [
        "edad <= 40"
      ]
    },
    {
      "cell_type": "code",
      "execution_count": 65,
      "metadata": {
        "colab": {
          "base_uri": "https://localhost:8080/"
        },
        "id": "Ihxfkxft0fx4",
        "outputId": "b0dee32f-059b-4d16-b9fa-7e9061cb6195"
      },
      "outputs": [
        {
          "data": {
            "text/plain": [
              "True"
            ]
          },
          "execution_count": 65,
          "metadata": {},
          "output_type": "execute_result"
        }
      ],
      "source": [
        "edad == 45"
      ]
    },
    {
      "cell_type": "code",
      "execution_count": 66,
      "metadata": {
        "colab": {
          "base_uri": "https://localhost:8080/"
        },
        "id": "eJxivmG60jem",
        "outputId": "578af596-8bf6-4eec-f212-f0d3d2529dbb"
      },
      "outputs": [
        {
          "data": {
            "text/plain": [
              "False"
            ]
          },
          "execution_count": 66,
          "metadata": {},
          "output_type": "execute_result"
        }
      ],
      "source": [
        "edad != 45"
      ]
    },
    {
      "cell_type": "markdown",
      "metadata": {
        "id": "68UQVUDq1rB0"
      },
      "source": [
        "> Ejemplo: Determinar el cuadrante de un punto $(x, y)$"
      ]
    },
    {
      "cell_type": "code",
      "execution_count": null,
      "metadata": {
        "id": "hu1dlIUu2FpN"
      },
      "outputs": [],
      "source": [
        "x = 50\n",
        "y = 85"
      ]
    },
    {
      "cell_type": "markdown",
      "metadata": {
        "id": "CqtZSZBG2H-L"
      },
      "source": [
        "Primer cuadrante (I)"
      ]
    },
    {
      "cell_type": "code",
      "execution_count": 67,
      "metadata": {
        "colab": {
          "base_uri": "https://localhost:8080/"
        },
        "id": "BL8-VzBZ0tMW",
        "outputId": "9c142c3b-6fb9-405a-a8b0-28601144d03a"
      },
      "outputs": [
        {
          "data": {
            "text/plain": [
              "True"
            ]
          },
          "execution_count": 67,
          "metadata": {},
          "output_type": "execute_result"
        }
      ],
      "source": [
        "x > 0 and y > 0"
      ]
    },
    {
      "cell_type": "markdown",
      "metadata": {
        "id": "Q-GF9wtB2K0e"
      },
      "source": [
        "Segundo cuadrante (II)"
      ]
    },
    {
      "cell_type": "code",
      "execution_count": 68,
      "metadata": {
        "colab": {
          "base_uri": "https://localhost:8080/"
        },
        "id": "EAAVZf-G0tKS",
        "outputId": "5c5e4801-5b56-4b40-c3a7-a7f950b3247c"
      },
      "outputs": [
        {
          "data": {
            "text/plain": [
              "False"
            ]
          },
          "execution_count": 68,
          "metadata": {},
          "output_type": "execute_result"
        }
      ],
      "source": [
        "x < 0 and y > 0"
      ]
    },
    {
      "cell_type": "markdown",
      "metadata": {
        "id": "WpU7utAB2OGp"
      },
      "source": [
        "Tercer cuadrante (III)"
      ]
    },
    {
      "cell_type": "code",
      "execution_count": 69,
      "metadata": {
        "colab": {
          "base_uri": "https://localhost:8080/"
        },
        "id": "cbVEKDBt1pui",
        "outputId": "c776d02d-dff4-47d8-e4e3-1caac99bdfe4"
      },
      "outputs": [
        {
          "data": {
            "text/plain": [
              "False"
            ]
          },
          "execution_count": 69,
          "metadata": {},
          "output_type": "execute_result"
        }
      ],
      "source": [
        "x < 0 and y < 0"
      ]
    },
    {
      "cell_type": "markdown",
      "metadata": {
        "id": "kKp0BiBE2TVi"
      },
      "source": [
        "Cuarto cuadrante (IV)"
      ]
    },
    {
      "cell_type": "code",
      "execution_count": 70,
      "metadata": {
        "colab": {
          "base_uri": "https://localhost:8080/"
        },
        "id": "lF3mQm8x2TFI",
        "outputId": "cb814dc2-dca6-4ef2-ae81-9aa37d3b07ba"
      },
      "outputs": [
        {
          "data": {
            "text/plain": [
              "False"
            ]
          },
          "execution_count": 70,
          "metadata": {},
          "output_type": "execute_result"
        }
      ],
      "source": [
        "x > 0 and y < 0"
      ]
    },
    {
      "cell_type": "markdown",
      "metadata": {
        "id": "fgTPM1-t2ykR"
      },
      "source": [
        "### Capturar valores desde el usuario\n",
        "\n",
        "El usuario puede ingresar valores y esos valores de texto los podemos convertir según el tipo datos que esperamos.\n",
        "\n",
        "Conversiones de valores:\n",
        "\n",
        "* Número enteros: `int( ... )`\n",
        "* Número decimales: `float( ... )`\n",
        "* Texto: `str( ... )`\n",
        "* Valores Lógicos: `bool( ... )`\n",
        "\n",
        "Entonces, para capturar un valor usamos:\n",
        "\n",
        "```python\n",
        "valor = int( input(mensaje) )\n",
        "```"
      ]
    },
    {
      "cell_type": "code",
      "execution_count": 81,
      "metadata": {
        "colab": {
          "base_uri": "https://localhost:8080/"
        },
        "id": "UbXzBnmS3KIp",
        "outputId": "9793d2a0-2ae0-43db-da3c-37a4c9de8915"
      },
      "outputs": [
        {
          "name": "stdout",
          "output_type": "stream",
          "text": [
            "Dame x: -5\n",
            "Dame y: 2\n",
            "\n",
            "\n",
            "(x, y) = (-5.0, 2.0)\n",
            "\n",
            "Cuadrante I: False\n",
            "Cuadrante II: True\n",
            "Cuadrante III: False\n",
            "Cuadrante IV: False\n",
            "\n",
            "\n"
          ]
        }
      ],
      "source": [
        "x = float( input(\"Dame x: \") )\n",
        "y = float( input(\"Dame y: \") )\n",
        "\n",
        "print(f\"\"\"\n",
        "\n",
        "(x, y) = ({x}, {y})\n",
        "\n",
        "Cuadrante I: {x > 0 and y > 0}\n",
        "Cuadrante II: {x < 0 and y > 0}\n",
        "Cuadrante III: {x < 0 and y < 0}\n",
        "Cuadrante IV: {x > 0 and y < 0}\n",
        "\n",
        "\"\"\")"
      ]
    },
    {
      "cell_type": "markdown",
      "metadata": {
        "id": "HyeYPTR06xY2"
      },
      "source": [
        "Operaciones artiméticas\n",
        "\n",
        "Operador | Sentido | Ejemplos\n",
        "-------- | ------- | --------\n",
        "`+` | Suma | `x + y`, `2 + 2`, `edad + 80`\n",
        "`-` | Resta | `x - y`, `2 - 2`. `edad - 5`\n",
        "`*` | Producto | `x * y`, `2 * 2`, `edad * 3`\n",
        "`/` | División | `x / y`, `2 / 2`, `1 / edad`\n",
        "`**` | Exponente | `x ** y`, `2 ** 2`, `edad ** 2`\n",
        "`%` | Módulo | `x % y`, `2 % 2`, `edad % 3`"
      ]
    },
    {
      "cell_type": "markdown",
      "metadata": {
        "id": "7z8QzvTO77c4"
      },
      "source": [
        "> Ejemplo: Calcular el cuadrado de la suma de dos número\n",
        "\n",
        "$$\n",
        "(x + y)^2\n",
        "$$"
      ]
    },
    {
      "cell_type": "code",
      "execution_count": null,
      "metadata": {
        "id": "vTMsNiU88NU8"
      },
      "outputs": [],
      "source": [
        "x = float( input(\"x: \") )\n",
        "y = float( input(\"y: \") )\n",
        "\n",
        "(x + y) ** 2"
      ]
    }
  ],
  "metadata": {
    "colab": {
      "provenance": []
    },
    "kernelspec": {
      "display_name": "Python 3",
      "name": "python3"
    },
    "language_info": {
      "name": "python"
    }
  },
  "nbformat": 4,
  "nbformat_minor": 0
}
