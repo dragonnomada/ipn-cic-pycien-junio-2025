{
  "nbformat": 4,
  "nbformat_minor": 0,
  "metadata": {
    "colab": {
      "provenance": []
    },
    "kernelspec": {
      "name": "python3",
      "display_name": "Python 3"
    },
    "language_info": {
      "name": "python"
    }
  },
  "cells": [
    {
      "cell_type": "markdown",
      "source": [
        "# Python Científico | Parte I / Sesión 2\n",
        "\n",
        "Alan Badillo Salas\n",
        "\n",
        "Ciudad de México, 28 de junio de 2025"
      ],
      "metadata": {
        "id": "siisX5xtJ1gi"
      }
    },
    {
      "cell_type": "markdown",
      "source": [
        "## Contenido\n",
        "\n",
        "1. Valores, Variables y Tipos de datos\n",
        "2. Expresiones Lógicas y Artiméticas\n",
        "3. Sentencias, Bloques y Estructuras de Control\n",
        "4. Colecciones: Listas, Tuplas y Diccionarios\n",
        "5. Funciones: Sin parámetros y con parámetros"
      ],
      "metadata": {
        "id": "2Y6-6x7NcriW"
      }
    },
    {
      "cell_type": "markdown",
      "source": [
        "## Condicionales\n",
        "\n",
        "Las condicionales son estructuras de control que permiten ejecutar un **bloque de código** cuando una condición es verdadera.\n",
        "\n",
        "La estructura permite anidar condiciones alternativas en caso de que la condición sea falsa (decisión en cascada).\n",
        "\n",
        "> Sintaxis de una condicional simple\n",
        "\n",
        "```python\n",
        "if <condición>:\n",
        "  <sentencias>\n",
        "```\n",
        "\n",
        "Donde las sentencias que queremos ejecutar dependerán de sí la condición es verdadera (la condición es un valor lógico) y deberán estar anidadas dentro del bloque marcado por los dos puntos (`:`) a esto se le conoce como nivel de indentación.\n",
        "\n",
        "Un nivel de indentación es reconocido como las sentencias espaciadas uniformemente dentro del bloque bajo la misma alineación."
      ],
      "metadata": {
        "id": "XduvCMWeJ_Kv"
      }
    },
    {
      "cell_type": "code",
      "source": [
        "x = int(input(\"Dame x: \"))\n",
        "\n",
        "if x >= 0:\n",
        "  print(f\"Tu x={x} es positiva\")"
      ],
      "metadata": {
        "colab": {
          "base_uri": "https://localhost:8080/"
        },
        "id": "uIRFAzHMJ-0l",
        "outputId": "b8e22842-4384-4c26-d7c6-b3ea403232c8"
      },
      "execution_count": null,
      "outputs": [
        {
          "name": "stdout",
          "output_type": "stream",
          "text": [
            "Dame x: -12\n"
          ]
        }
      ]
    },
    {
      "cell_type": "markdown",
      "source": [
        "La estructura condicional `if` puede anidar una estructura dual llamada `else` que ejecutará la contraparte, es decir, ejecutará un bloque cuando no se alcance la verdad (un valor lógico verdadero).\n",
        "\n",
        "> Sintaxis de una condicional doble (dual)\n",
        "\n",
        "```python\n",
        "if <condición>:\n",
        "  <sentencias verdaderas>\n",
        "else:\n",
        "  <sentencias opuestas>\n",
        "```"
      ],
      "metadata": {
        "id": "uxM7tQ3XNZNt"
      }
    },
    {
      "cell_type": "code",
      "execution_count": null,
      "metadata": {
        "colab": {
          "base_uri": "https://localhost:8080/"
        },
        "id": "Bsj34BwcJY97",
        "outputId": "4bb9189a-472d-4964-b360-042d91248efa"
      },
      "outputs": [
        {
          "output_type": "stream",
          "name": "stdout",
          "text": [
            "Dame x: -12\n",
            "Tu x=-12 es negativa\n"
          ]
        }
      ],
      "source": [
        "x = int(input(\"Dame x: \"))\n",
        "\n",
        "if x >= 0:\n",
        "  print(f\"Tu x={x} es positiva\")\n",
        "else:\n",
        "  print(f\"Tu x={x} es negativa\")"
      ]
    },
    {
      "cell_type": "markdown",
      "source": [
        "### Ejemplo: Determinar las raices de una ecuación cuadrática\n",
        "\n",
        "La ecuación cuadrática $a x^2 + b x + c$ tiene dos posibles soliciones alcanzadas tras completar el binomio cuadrado y despejar a x:\n",
        "\n",
        "$$\n",
        "x = \\frac{-b \\pm \\sqrt{b^2 - 4 a c}}{2 a}\n",
        "$$\n",
        "\n",
        "Generando la solución positiva y negativa, en caso de que el discriminante $b^2 - 4 a c \\ge 0$, es decir, solo con un discriminante positivo existirá una solución en los reales $\\mathbb{R}$."
      ],
      "metadata": {
        "id": "N1GtefrjPejN"
      }
    },
    {
      "cell_type": "code",
      "source": [
        "# Inicio\n",
        "\n",
        "a = float(input(\"a: \"))\n",
        "b = float(input(\"b: \"))\n",
        "c = float(input(\"c: \"))\n",
        "\n",
        "e = None\n",
        "x1 = None\n",
        "x2 = None\n",
        "\n",
        "if a == 0:\n",
        "  e = \"División entre cero (`a` es cero)\"\n",
        "else:\n",
        "  d = b ** 2 - 4 * a * c\n",
        "  if d >= 0:\n",
        "    x1 = (-b + d ** 0.5) / (2 * a)\n",
        "    x2 = (-b - d ** 0.5) / (2 * a)\n",
        "  else:\n",
        "    e = \"Discriminante negativo (solición imaginaria)\"\n",
        "\n",
        "# Fin\n",
        "e, x1, x2"
      ],
      "metadata": {
        "id": "wrzqlgrTR4k0"
      },
      "execution_count": null,
      "outputs": []
    },
    {
      "cell_type": "markdown",
      "source": [
        "## Estructura condicional cíclica\n",
        "\n",
        "Cuando requerimos repetir un **bloque de sentencias** determinadas por una condición podemos usar la estructura de control condicional cíclica, esta nos permitirá evaluar una condición y si se cumple ejecutará las sentencias anidadas y luego volverá a comprobar la condición y si es verdadera volverá a ejecutar la senticias, repitiendo cíclicamente el procedimiento hasta que de despúes de ejecutar el bloque y comprobar la condición esta ya no se cumpla.\n",
        "\n",
        "Es decir, mantendremos ejecutando un bloque de sentencias *mientras* la condición se cumpla.\n",
        "\n",
        "> Sintaxis de una condicional cíclica\n",
        "\n",
        "```python\n",
        "while <codición>:\n",
        "  <sentencias>\n",
        "```"
      ],
      "metadata": {
        "id": "hJLGXs8-kHv9"
      }
    },
    {
      "cell_type": "code",
      "source": [
        "n = 1\n",
        "\n",
        "while n < 5:\n",
        "  print(n)\n",
        "  n = n + 1"
      ],
      "metadata": {
        "colab": {
          "base_uri": "https://localhost:8080/"
        },
        "id": "4Y-aiBt9lxEC",
        "outputId": "7d1ed24c-566f-44ac-a445-3d684f9dc2f0"
      },
      "execution_count": null,
      "outputs": [
        {
          "output_type": "stream",
          "name": "stdout",
          "text": [
            "1\n",
            "2\n",
            "3\n",
            "4\n"
          ]
        }
      ]
    },
    {
      "cell_type": "code",
      "source": [
        "x = 1\n",
        "\n",
        "while x < 10000:\n",
        "  print(x)\n",
        "  x = 3 * x - 1"
      ],
      "metadata": {
        "colab": {
          "base_uri": "https://localhost:8080/"
        },
        "id": "eczWgpgsl52A",
        "outputId": "29bb0d14-19e4-4f88-aedc-18b03683b72e"
      },
      "execution_count": null,
      "outputs": [
        {
          "output_type": "stream",
          "name": "stdout",
          "text": [
            "1\n",
            "2\n",
            "5\n",
            "14\n",
            "41\n",
            "122\n",
            "365\n",
            "1094\n",
            "3281\n",
            "9842\n"
          ]
        }
      ]
    },
    {
      "cell_type": "markdown",
      "source": [
        "## Listas\n",
        "\n",
        "Las listas son colecciones indexadas que pueden almacenar cero o más elementos y permiten seguir agregando, reemplazando y quitando elementos.\n",
        "\n",
        "A través del índice podemos acceder a los elementos almacenados, o también podemos usar una serie de funciones que se aplican directamente a la listas ya que las listas son secuencias de elementos:\n",
        "\n",
        "**Funciones secuenciales**\n",
        "\n",
        "* `min(<secuencia>)` - Recupera el valor mínimo de la secuencia (lista)\n",
        "* `max(<secuencia>)` - Recuepera el valor máximo de la secuencia (lista)\n",
        "* `len(<secuencia>)` - Recupera el tamaño o número de elementos de la secuencia (lista)\n",
        "* `sum(<secuencia>)` - Calcula la suma de todos los elementos en la secuencia (lista)\n",
        "\n",
        "Además para manipular la lista podemos usar algunos operadores para agregar o quitar elementos:\n",
        "\n",
        "**Operadores de la lista**\n",
        "\n",
        "* `<lista>.append(<elemento>)` - Agrega el `<elemento>` al final de `<lista>`\n",
        "* `<lista>.insert(<índice>, <elemento>)` - Inserta el elemento en `<índice>` y desplaza a la derecha los demás elementos para hacerle espacio (reindexación)\n",
        "* `<lista>.remove(<elemento>)` - Busca, quita y devuelve al primero `<elemento>` y desplaza a la izquierda los demás elementos (reindexación).\n",
        "* `<lista>.pop()` - Quita y devuelve al último elemento de `<lista>`\n",
        "* `<lista>.pop(<índice>)` - Quita y devuelve al elemento de `<índice>` (reindexación)\n",
        "* `<lista>.clear()` - Quita todos los elementos de `<lista>`\n",
        "\n",
        "**Nota:** Al eliminar un `<elemento>` o `<índice>` si no está lista o el índice no es correcto en el rango de la lista se provocará un error."
      ],
      "metadata": {
        "id": "Dd_TUdIvnBmz"
      }
    },
    {
      "cell_type": "code",
      "source": [
        "A = []\n",
        "\n",
        "A, type(A)"
      ],
      "metadata": {
        "colab": {
          "base_uri": "https://localhost:8080/"
        },
        "id": "YkTLaREErwoi",
        "outputId": "7adbae4c-4a3d-4b9f-9f41-9e0e4570cd83"
      },
      "execution_count": null,
      "outputs": [
        {
          "output_type": "execute_result",
          "data": {
            "text/plain": [
              "([], list)"
            ]
          },
          "metadata": {},
          "execution_count": 11
        }
      ]
    },
    {
      "cell_type": "code",
      "source": [
        "A = [1, 2, 3]\n",
        "\n",
        "A, type(A)"
      ],
      "metadata": {
        "colab": {
          "base_uri": "https://localhost:8080/"
        },
        "id": "dMOjveKTsGco",
        "outputId": "31e4bbf2-3a35-4a5f-d5d4-e66658f8825e"
      },
      "execution_count": null,
      "outputs": [
        {
          "output_type": "execute_result",
          "data": {
            "text/plain": [
              "([1, 2, 3], list)"
            ]
          },
          "metadata": {},
          "execution_count": 12
        }
      ]
    },
    {
      "cell_type": "code",
      "source": [
        "Frutas = [\"Manzana\", \"Pera\", \"Kiwi\", \"Mango\", \"Piña\"]\n",
        "\n",
        "Frutas"
      ],
      "metadata": {
        "colab": {
          "base_uri": "https://localhost:8080/"
        },
        "id": "r0SsArUXsM4I",
        "outputId": "2f0736ad-9f96-407c-a85a-c4e0450a762d"
      },
      "execution_count": null,
      "outputs": [
        {
          "output_type": "execute_result",
          "data": {
            "text/plain": [
              "['Manzana', 'Pera', 'Kiwi', 'Mango', 'Piña']"
            ]
          },
          "metadata": {},
          "execution_count": 13
        }
      ]
    },
    {
      "cell_type": "markdown",
      "source": [
        "### Operadores secuenciales"
      ],
      "metadata": {
        "id": "Cw59P0YatiOH"
      }
    },
    {
      "cell_type": "code",
      "source": [
        "edades = [38, 45, 11, 34, 89, 34, 31, 23, 25, 27, 17, 28]"
      ],
      "metadata": {
        "id": "SYDj0eI5snOE"
      },
      "execution_count": null,
      "outputs": []
    },
    {
      "cell_type": "code",
      "source": [
        "len(edades)"
      ],
      "metadata": {
        "colab": {
          "base_uri": "https://localhost:8080/"
        },
        "id": "NgWla56DtsWR",
        "outputId": "758db422-7e5f-4e0e-fca7-331558925bbc"
      },
      "execution_count": null,
      "outputs": [
        {
          "output_type": "execute_result",
          "data": {
            "text/plain": [
              "12"
            ]
          },
          "metadata": {},
          "execution_count": 26
        }
      ]
    },
    {
      "cell_type": "code",
      "source": [
        "min(edades)"
      ],
      "metadata": {
        "colab": {
          "base_uri": "https://localhost:8080/"
        },
        "id": "k6r-ZA--tw1C",
        "outputId": "5bc0a8ee-9c7b-41ba-afb4-3613e4c21063"
      },
      "execution_count": null,
      "outputs": [
        {
          "output_type": "execute_result",
          "data": {
            "text/plain": [
              "11"
            ]
          },
          "metadata": {},
          "execution_count": 27
        }
      ]
    },
    {
      "cell_type": "code",
      "source": [
        "max(edades)"
      ],
      "metadata": {
        "colab": {
          "base_uri": "https://localhost:8080/"
        },
        "id": "xjzKvWG8t1v4",
        "outputId": "0507da4d-2d81-4bc4-c3cf-eec5ab574849"
      },
      "execution_count": null,
      "outputs": [
        {
          "output_type": "execute_result",
          "data": {
            "text/plain": [
              "89"
            ]
          },
          "metadata": {},
          "execution_count": 28
        }
      ]
    },
    {
      "cell_type": "code",
      "source": [
        "sum(edades)"
      ],
      "metadata": {
        "colab": {
          "base_uri": "https://localhost:8080/"
        },
        "id": "tdchuJv_t4H_",
        "outputId": "e2150403-95b3-4fa9-89fb-c0df9fb3b2e7"
      },
      "execution_count": null,
      "outputs": [
        {
          "output_type": "execute_result",
          "data": {
            "text/plain": [
              "402"
            ]
          },
          "metadata": {},
          "execution_count": 29
        }
      ]
    },
    {
      "cell_type": "code",
      "source": [
        "sum(edades) / len(edades)"
      ],
      "metadata": {
        "colab": {
          "base_uri": "https://localhost:8080/"
        },
        "id": "WVVJJ2FxvBCH",
        "outputId": "6dd38f2f-c746-423b-d21f-bd034d3e5156"
      },
      "execution_count": null,
      "outputs": [
        {
          "output_type": "execute_result",
          "data": {
            "text/plain": [
              "33.5"
            ]
          },
          "metadata": {},
          "execution_count": 30
        }
      ]
    },
    {
      "cell_type": "markdown",
      "source": [
        "### Operadores de lista"
      ],
      "metadata": {
        "id": "J2ydVBd3vs0c"
      }
    },
    {
      "cell_type": "code",
      "source": [
        "calificaciones = []\n",
        "calificaciones"
      ],
      "metadata": {
        "colab": {
          "base_uri": "https://localhost:8080/"
        },
        "id": "obUyiV_1vwux",
        "outputId": "eedd7dab-f37d-49bd-8fff-134bddc99b6f"
      },
      "execution_count": null,
      "outputs": [
        {
          "output_type": "execute_result",
          "data": {
            "text/plain": [
              "[]"
            ]
          },
          "metadata": {},
          "execution_count": 34
        }
      ]
    },
    {
      "cell_type": "code",
      "source": [
        "calificaciones.append(8.9)\n",
        "calificaciones"
      ],
      "metadata": {
        "colab": {
          "base_uri": "https://localhost:8080/"
        },
        "id": "DNi1YXZCvzgH",
        "outputId": "97edd220-7487-453f-998b-8caeb41d33e6"
      },
      "execution_count": null,
      "outputs": [
        {
          "output_type": "execute_result",
          "data": {
            "text/plain": [
              "[8.9]"
            ]
          },
          "metadata": {},
          "execution_count": 35
        }
      ]
    },
    {
      "cell_type": "code",
      "source": [
        "calificaciones.append(9.1)\n",
        "calificaciones"
      ],
      "metadata": {
        "colab": {
          "base_uri": "https://localhost:8080/"
        },
        "id": "iITcRz1fwCqW",
        "outputId": "92234606-6442-4d2f-f8d2-654474e2798d"
      },
      "execution_count": null,
      "outputs": [
        {
          "output_type": "execute_result",
          "data": {
            "text/plain": [
              "[8.9, 9.1]"
            ]
          },
          "metadata": {},
          "execution_count": 36
        }
      ]
    },
    {
      "cell_type": "code",
      "source": [
        "while len(calificaciones) < 10:\n",
        "  x = float(input(\"Dame la siguiente calificación: \"))\n",
        "  calificaciones.append(x)\n",
        "\n",
        "calificaciones"
      ],
      "metadata": {
        "colab": {
          "base_uri": "https://localhost:8080/"
        },
        "id": "gSKcbvxBwEqg",
        "outputId": "970d1c78-31c4-442b-d9b1-a7a3b94569b5"
      },
      "execution_count": null,
      "outputs": [
        {
          "name": "stdout",
          "output_type": "stream",
          "text": [
            "Dame la siguiente calificación: 5\n",
            "Dame la siguiente calificación: 7\n",
            "Dame la siguiente calificación: 8\n",
            "Dame la siguiente calificación: 6\n",
            "Dame la siguiente calificación: 9\n",
            "Dame la siguiente calificación: 10\n",
            "Dame la siguiente calificación: 3\n",
            "Dame la siguiente calificación: 6\n",
            "Dame la siguiente calificación: 7\n",
            "Dame la siguiente calificación: 8\n"
          ]
        },
        {
          "output_type": "execute_result",
          "data": {
            "text/plain": [
              "[5.0, 7.0, 8.0, 6.0, 9.0, 10.0, 3.0, 6.0, 7.0, 8.0]"
            ]
          },
          "metadata": {},
          "execution_count": 42
        }
      ]
    },
    {
      "cell_type": "code",
      "source": [
        "calificaciones.clear()\n",
        "calificaciones"
      ],
      "metadata": {
        "colab": {
          "base_uri": "https://localhost:8080/"
        },
        "id": "vyV5kavmxUIh",
        "outputId": "560ab55e-3b20-4030-e3c4-9c51cc0b0591"
      },
      "execution_count": null,
      "outputs": [
        {
          "output_type": "execute_result",
          "data": {
            "text/plain": [
              "[]"
            ]
          },
          "metadata": {},
          "execution_count": 41
        }
      ]
    },
    {
      "cell_type": "markdown",
      "source": [
        "### Ejemplo: Ordenamiento ingenuo de listas"
      ],
      "metadata": {
        "id": "1O_T8UBzxw9h"
      }
    },
    {
      "cell_type": "code",
      "source": [
        "# Entrada\n",
        "A = [6, 4, 5, 7, 3, 8, 9, 1, 2, 3, 4]\n",
        "\n",
        "# Inicio\n",
        "B = []\n",
        "\n",
        "while len(A) > 0:\n",
        "  x = min(A)\n",
        "  A.remove(x)\n",
        "  B.append(x)\n",
        "\n",
        "B"
      ],
      "metadata": {
        "colab": {
          "base_uri": "https://localhost:8080/"
        },
        "id": "NGCwUfLFx2d6",
        "outputId": "2c7ed5a4-c778-4065-cc85-cb09ead3e2cc"
      },
      "execution_count": null,
      "outputs": [
        {
          "output_type": "execute_result",
          "data": {
            "text/plain": [
              "[1, 2, 3, 3, 4, 4, 5, 6, 7, 8, 9]"
            ]
          },
          "metadata": {},
          "execution_count": 43
        }
      ]
    },
    {
      "cell_type": "markdown",
      "source": [
        "## Índices\n",
        "\n",
        "Los índices son valores automáticos que usan listas para acceder a los elementos.\n",
        "\n",
        "> Sintaxis para acceder a un índice\n",
        "\n",
        "```python\n",
        "x = <lista>[<índice>]\n",
        "```"
      ],
      "metadata": {
        "id": "ZQ1mp2Fn1kB1"
      }
    },
    {
      "cell_type": "code",
      "source": [
        "Frutas = [\"Manzana\", \"Pera\", \"Kiwi\", \"Piña\", \"Mango\"]\n",
        "\n",
        "Frutas[0]"
      ],
      "metadata": {
        "colab": {
          "base_uri": "https://localhost:8080/",
          "height": 56
        },
        "id": "UwRWutHL1isg",
        "outputId": "1cd90988-e227-4038-dd79-9b188f68e943"
      },
      "execution_count": null,
      "outputs": [
        {
          "output_type": "execute_result",
          "data": {
            "text/plain": [
              "'Manzana'"
            ],
            "application/vnd.google.colaboratory.intrinsic+json": {
              "type": "string"
            }
          },
          "metadata": {},
          "execution_count": 44
        }
      ]
    },
    {
      "cell_type": "code",
      "source": [
        "Frutas[3]"
      ],
      "metadata": {
        "colab": {
          "base_uri": "https://localhost:8080/",
          "height": 56
        },
        "id": "EFZiYwXk16vb",
        "outputId": "e3fd89c0-ca86-473b-b0c3-3216d5ac4bdf"
      },
      "execution_count": null,
      "outputs": [
        {
          "output_type": "execute_result",
          "data": {
            "text/plain": [
              "'Piña'"
            ],
            "application/vnd.google.colaboratory.intrinsic+json": {
              "type": "string"
            }
          },
          "metadata": {},
          "execution_count": 45
        }
      ]
    },
    {
      "cell_type": "code",
      "source": [
        "Frutas[-1]"
      ],
      "metadata": {
        "colab": {
          "base_uri": "https://localhost:8080/",
          "height": 56
        },
        "id": "FcJX3OJn2EMa",
        "outputId": "37db415c-7805-4833-a2a5-bfe22a47f853"
      },
      "execution_count": null,
      "outputs": [
        {
          "output_type": "execute_result",
          "data": {
            "text/plain": [
              "'Mango'"
            ],
            "application/vnd.google.colaboratory.intrinsic+json": {
              "type": "string"
            }
          },
          "metadata": {},
          "execution_count": 46
        }
      ]
    },
    {
      "cell_type": "code",
      "source": [
        "Frutas[-4]"
      ],
      "metadata": {
        "colab": {
          "base_uri": "https://localhost:8080/",
          "height": 56
        },
        "id": "WE0qDdzM2LEt",
        "outputId": "f106d8c0-ae69-46ab-a439-6abb5d867be9"
      },
      "execution_count": null,
      "outputs": [
        {
          "output_type": "execute_result",
          "data": {
            "text/plain": [
              "'Pera'"
            ],
            "application/vnd.google.colaboratory.intrinsic+json": {
              "type": "string"
            }
          },
          "metadata": {},
          "execution_count": 47
        }
      ]
    },
    {
      "cell_type": "markdown",
      "source": [
        "### Sublistas\n",
        "\n",
        "Los índices se pueden usar combinados en la estructura `i:j` para extraer todos los elementos desde `i` hasta `j - 1` y devolvemos una sub-lista con esos elementos.\n",
        "\n",
        "**Nota**: Podemos ignorar a la `i` o a la `j` y se asumirá el mejor, por ejemplo, si ignoramos a `i` irá desde el principio y si ignoramos a `j` irá hasta el final."
      ],
      "metadata": {
        "id": "ewSmSTBM2hJQ"
      }
    },
    {
      "cell_type": "code",
      "source": [
        "Frutas[2:4]"
      ],
      "metadata": {
        "colab": {
          "base_uri": "https://localhost:8080/"
        },
        "id": "UFUGDnPZ26gL",
        "outputId": "6da4da2a-f0a1-4b67-edfc-aa045478d2f2"
      },
      "execution_count": null,
      "outputs": [
        {
          "output_type": "execute_result",
          "data": {
            "text/plain": [
              "['Kiwi', 'Piña']"
            ]
          },
          "metadata": {},
          "execution_count": 49
        }
      ]
    },
    {
      "cell_type": "code",
      "source": [
        "Frutas[:4]"
      ],
      "metadata": {
        "colab": {
          "base_uri": "https://localhost:8080/"
        },
        "id": "L78Xy8H_37Ic",
        "outputId": "a9c20635-272c-4968-daa8-9fcfcb44dd5a"
      },
      "execution_count": null,
      "outputs": [
        {
          "output_type": "execute_result",
          "data": {
            "text/plain": [
              "['Manzana', 'Pera', 'Kiwi', 'Piña']"
            ]
          },
          "metadata": {},
          "execution_count": 50
        }
      ]
    },
    {
      "cell_type": "code",
      "source": [
        "Frutas[2:]"
      ],
      "metadata": {
        "colab": {
          "base_uri": "https://localhost:8080/"
        },
        "id": "R_ij8AxG3-du",
        "outputId": "70877a7b-7f01-42df-eb75-f8e92baa816b"
      },
      "execution_count": null,
      "outputs": [
        {
          "output_type": "execute_result",
          "data": {
            "text/plain": [
              "['Kiwi', 'Piña', 'Mango']"
            ]
          },
          "metadata": {},
          "execution_count": 51
        }
      ]
    },
    {
      "cell_type": "markdown",
      "source": [
        "#### Ejecicio:\n",
        "\n",
        "Define una lista con 10 edades y reporta las últimas 3\n"
      ],
      "metadata": {
        "id": "wQ2weCrE3LVi"
      }
    },
    {
      "cell_type": "code",
      "source": [
        "# Solución\n",
        "\n",
        "edades = [18, 23, 45, 32, 12, 11, 46, 76, 21, 34]\n",
        "\n",
        "edades[-3:]"
      ],
      "metadata": {
        "colab": {
          "base_uri": "https://localhost:8080/"
        },
        "id": "RB_X3cJg3awQ",
        "outputId": "3ab41901-bbb0-4b6f-9aa9-359e877efd74"
      },
      "execution_count": null,
      "outputs": [
        {
          "output_type": "execute_result",
          "data": {
            "text/plain": [
              "[76, 21, 34]"
            ]
          },
          "metadata": {},
          "execution_count": 52
        }
      ]
    },
    {
      "cell_type": "code",
      "source": [
        "edades_ordenadas = sorted(edades)\n",
        "\n",
        "edades_ordenadas"
      ],
      "metadata": {
        "colab": {
          "base_uri": "https://localhost:8080/"
        },
        "id": "Zt1QNRUS5g2G",
        "outputId": "8e109735-2c6d-4741-b7b4-89caa1052c24"
      },
      "execution_count": null,
      "outputs": [
        {
          "output_type": "execute_result",
          "data": {
            "text/plain": [
              "[11, 12, 18, 21, 23, 32, 34, 45, 46, 76]"
            ]
          },
          "metadata": {},
          "execution_count": 56
        }
      ]
    },
    {
      "cell_type": "code",
      "source": [
        "edades_ordenadas = sorted(edades, reverse=True)\n",
        "\n",
        "edades_ordenadas"
      ],
      "metadata": {
        "colab": {
          "base_uri": "https://localhost:8080/"
        },
        "id": "rgqTfN6r5v8S",
        "outputId": "31be5ab2-051f-408a-9ae9-fbdeb2d10021"
      },
      "execution_count": null,
      "outputs": [
        {
          "output_type": "execute_result",
          "data": {
            "text/plain": [
              "[76, 46, 45, 34, 32, 23, 21, 18, 12, 11]"
            ]
          },
          "metadata": {},
          "execution_count": 57
        }
      ]
    },
    {
      "cell_type": "code",
      "source": [
        "edades_ordenadas[:3]"
      ],
      "metadata": {
        "colab": {
          "base_uri": "https://localhost:8080/"
        },
        "id": "07fqR_vU52Cp",
        "outputId": "b1b6997a-58c7-4451-b8e3-722ed72da0d6"
      },
      "execution_count": null,
      "outputs": [
        {
          "output_type": "execute_result",
          "data": {
            "text/plain": [
              "[76, 46, 45]"
            ]
          },
          "metadata": {},
          "execution_count": 58
        }
      ]
    },
    {
      "cell_type": "code",
      "source": [
        "edades_ordenadas[-3:]"
      ],
      "metadata": {
        "colab": {
          "base_uri": "https://localhost:8080/"
        },
        "id": "-OitnAde55Ux",
        "outputId": "9b02bb39-048e-4c85-cc06-78e6024579f1"
      },
      "execution_count": null,
      "outputs": [
        {
          "output_type": "execute_result",
          "data": {
            "text/plain": [
              "[18, 12, 11]"
            ]
          },
          "metadata": {},
          "execution_count": 59
        }
      ]
    },
    {
      "cell_type": "code",
      "source": [
        "edades_ordenadas[3:-3]"
      ],
      "metadata": {
        "colab": {
          "base_uri": "https://localhost:8080/"
        },
        "id": "havJr9ZP6GLt",
        "outputId": "e3f38130-2b92-436a-ddd8-2c675652319b"
      },
      "execution_count": null,
      "outputs": [
        {
          "output_type": "execute_result",
          "data": {
            "text/plain": [
              "[34, 32, 23, 21]"
            ]
          },
          "metadata": {},
          "execution_count": 60
        }
      ]
    },
    {
      "cell_type": "markdown",
      "source": [
        "## Iterador\n",
        "\n",
        "El iterador es una estructura de control que permite recorrer elementos dentro de una secuencia.\n",
        "\n",
        "> Sintaxis del iterador\n",
        "\n",
        "```python\n",
        "for <elemento> in <secuencia>:\n",
        "  <sentencias (elemento)>\n",
        "```\n",
        "\n",
        "Repetimos un **bloque de sentencias** por cada *elemento* de la lista o secuencia."
      ],
      "metadata": {
        "id": "7lka0T-n7V_R"
      }
    },
    {
      "cell_type": "code",
      "source": [
        "Frutas = [\"Manzana\", \"Pera\", \"Kiwi\", \"Fresa\", \"Piña\", \"Mango\"]\n",
        "\n",
        "for fruta in Frutas:\n",
        "  print(fruta)"
      ],
      "metadata": {
        "colab": {
          "base_uri": "https://localhost:8080/"
        },
        "id": "303uB6Xv7Ura",
        "outputId": "6fac81f2-c974-472c-b468-3f12c40530c0"
      },
      "execution_count": null,
      "outputs": [
        {
          "output_type": "stream",
          "name": "stdout",
          "text": [
            "Manzana\n",
            "Pera\n",
            "Kiwi\n",
            "Fresa\n",
            "Piña\n",
            "Mango\n"
          ]
        }
      ]
    },
    {
      "cell_type": "markdown",
      "source": [
        "### Ejemplo\n",
        "\n",
        "Calcular la suma de los números $1 + 2 + 3 + 5 + 8 + 13 + 21$\n",
        "\n",
        "Esto se puede resolver mediante sumas parciales:\n",
        "\n",
        "$$\n",
        "S_0 = 0 \\\\\n",
        "S_1 = S_0 + 1 \\\\\n",
        "S_2 = S_1 + 2 \\\\\n",
        "S_3 = S_2 + 3 \\\\\n",
        "S_4 = S_3 + 5 \\\\\n",
        "S_5 = S_4 + 8 \\\\\n",
        "S_6 = S_5 + 13 \\\\\n",
        "S_7 = S_6 + 21\n",
        "$$\n",
        "\n"
      ],
      "metadata": {
        "id": "57uoucUR8xkL"
      }
    },
    {
      "cell_type": "code",
      "source": [
        "fibos = [1, 2, 3, 5, 8, 13, 21]\n",
        "\n",
        "s = 0\n",
        "\n",
        "for x in fibos:\n",
        "  s = s + x\n",
        "  print(s)"
      ],
      "metadata": {
        "colab": {
          "base_uri": "https://localhost:8080/"
        },
        "id": "DtSkVYD39NXL",
        "outputId": "f6524409-6ff1-4510-beb0-ae8c62a32fb5"
      },
      "execution_count": null,
      "outputs": [
        {
          "output_type": "stream",
          "name": "stdout",
          "text": [
            "1\n",
            "3\n",
            "6\n",
            "11\n",
            "19\n",
            "32\n",
            "53\n"
          ]
        },
        {
          "output_type": "execute_result",
          "data": {
            "text/plain": [
              "53"
            ]
          },
          "metadata": {},
          "execution_count": 63
        }
      ]
    },
    {
      "cell_type": "code",
      "source": [
        "edades = sorted([18, 23, 17, 19, 21, 34, 85, 14])\n",
        "\n",
        "s = 0\n",
        "\n",
        "for edad in edades:\n",
        "  s = s + edad\n",
        "  print(s, s / sum(edades))"
      ],
      "metadata": {
        "colab": {
          "base_uri": "https://localhost:8080/"
        },
        "id": "Q9PKre_K9FzW",
        "outputId": "5d862694-60d7-4492-9fea-b6325a1eec99"
      },
      "execution_count": null,
      "outputs": [
        {
          "output_type": "stream",
          "name": "stdout",
          "text": [
            "14 0.06060606060606061\n",
            "31 0.1341991341991342\n",
            "49 0.21212121212121213\n",
            "68 0.2943722943722944\n",
            "89 0.3852813852813853\n",
            "112 0.48484848484848486\n",
            "146 0.6320346320346321\n",
            "231 1.0\n"
          ]
        }
      ]
    }
  ]
}